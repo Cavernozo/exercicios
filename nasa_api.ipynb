{
 "cells": [
  {
   "cell_type": "code",
   "execution_count": 5,
   "metadata": {},
   "outputs": [],
   "source": [
    "import requests"
   ]
  },
  {
   "cell_type": "code",
   "execution_count": 6,
   "metadata": {},
   "outputs": [],
   "source": [
    "def parametro(data, api_key):\n",
    "    par = {\n",
    "        'date' : data,\n",
    "        'api_key': api_key\n",
    "    }\n",
    "\n",
    "    return par"
   ]
  },
  {
   "cell_type": "code",
   "execution_count": 7,
   "metadata": {},
   "outputs": [],
   "source": [
    "url ='https://api.nasa.gov/planetary/apod?'\n",
    "api ='io8DE2I2EuJf64OkLcXHp4DWTjA7eSlYNVMsFp0A'\n",
    "data = '1995-10-01'"
   ]
  },
  {
   "cell_type": "code",
   "execution_count": 8,
   "metadata": {},
   "outputs": [],
   "source": [
    "param = parametro(data, api)"
   ]
  },
  {
   "cell_type": "code",
   "execution_count": 9,
   "metadata": {},
   "outputs": [],
   "source": [
    "response = requests.get(url, params=param)"
   ]
  },
  {
   "cell_type": "code",
   "execution_count": 10,
   "metadata": {},
   "outputs": [
    {
     "data": {
      "text/plain": [
       "200"
      ]
     },
     "execution_count": 10,
     "metadata": {},
     "output_type": "execute_result"
    }
   ],
   "source": [
    "response.status_code"
   ]
  },
  {
   "cell_type": "code",
   "execution_count": 11,
   "metadata": {},
   "outputs": [
    {
     "data": {
      "text/plain": [
       "{'date': '1995-10-01',\n",
       " 'explanation': 'The pictured core of the galaxy NGC 253 shows an exceptionally high rate of star formation.  In the center are some of the densest knots of stars ever found, surrounded by glowing gas and dust lanes. Galaxies where such high star formation rates are seen are called \"starburst\" galaxies. The unusual color is a combination of the light emitted from the young, hot, blue stars and their associated emission and reflection nebulae.',\n",
       " 'hdurl': 'https://apod.nasa.gov/apod/image/ngc253_hst.gif',\n",
       " 'media_type': 'image',\n",
       " 'service_version': 'v1',\n",
       " 'title': 'Central Galactic Star Bursts',\n",
       " 'url': 'https://apod.nasa.gov/apod/image/ngc253_hst.gif'}"
      ]
     },
     "execution_count": 11,
     "metadata": {},
     "output_type": "execute_result"
    }
   ],
   "source": [
    "response.json()"
   ]
  },
  {
   "cell_type": "code",
   "execution_count": 14,
   "metadata": {},
   "outputs": [
    {
     "data": {
      "text/plain": [
       "'The pictured core of the galaxy NGC 253 shows an exceptionally high rate of star formation.  In the center are some of the densest knots of stars ever found, surrounded by glowing gas and dust lanes. Galaxies where such high star formation rates are seen are called \"starburst\" galaxies. The unusual color is a combination of the light emitted from the young, hot, blue stars and their associated emission and reflection nebulae.'"
      ]
     },
     "execution_count": 14,
     "metadata": {},
     "output_type": "execute_result"
    }
   ],
   "source": [
    "response.json()['explanation']"
   ]
  },
  {
   "cell_type": "code",
   "execution_count": 16,
   "metadata": {},
   "outputs": [
    {
     "data": {
      "text/plain": [
       "'image'"
      ]
     },
     "execution_count": 16,
     "metadata": {},
     "output_type": "execute_result"
    }
   ],
   "source": [
    "response.json()['media_type']"
   ]
  },
  {
   "cell_type": "code",
   "execution_count": 17,
   "metadata": {},
   "outputs": [
    {
     "data": {
      "text/plain": [
       "'https://apod.nasa.gov/apod/image/ngc253_hst.gif'"
      ]
     },
     "execution_count": 17,
     "metadata": {},
     "output_type": "execute_result"
    }
   ],
   "source": [
    "response.json()['hdurl']"
   ]
  },
  {
   "cell_type": "code",
   "execution_count": 18,
   "metadata": {},
   "outputs": [
    {
     "data": {
      "text/plain": [
       "'Central Galactic Star Bursts'"
      ]
     },
     "execution_count": 18,
     "metadata": {},
     "output_type": "execute_result"
    }
   ],
   "source": [
    "response.json()['title']"
   ]
  }
 ],
 "metadata": {
  "kernelspec": {
   "display_name": ".venv",
   "language": "python",
   "name": "python3"
  },
  "language_info": {
   "codemirror_mode": {
    "name": "ipython",
    "version": 3
   },
   "file_extension": ".py",
   "mimetype": "text/x-python",
   "name": "python",
   "nbconvert_exporter": "python",
   "pygments_lexer": "ipython3",
   "version": "3.11.9"
  }
 },
 "nbformat": 4,
 "nbformat_minor": 2
}
